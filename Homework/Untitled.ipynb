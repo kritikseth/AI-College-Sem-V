{
 "cells": [
  {
   "cell_type": "code",
   "execution_count": 8,
   "metadata": {},
   "outputs": [],
   "source": [
    "import matplotlib.pyplot as plt\n",
    "import numpy as np\n",
    "import time"
   ]
  },
  {
   "cell_type": "code",
   "execution_count": 14,
   "metadata": {},
   "outputs": [
    {
     "name": "stdout",
     "output_type": "stream",
     "text": [
      "Collecting ipympl\n",
      "  Downloading ipympl-0.5.7-py2.py3-none-any.whl (463 kB)\n",
      "\u001b[K     |████████████████████████████████| 463 kB 595 kB/s eta 0:00:01\n",
      "\u001b[?25hRequirement already satisfied: ipykernel>=4.7 in /Users/kritik/opt/anaconda3/lib/python3.7/site-packages (from ipympl) (5.1.4)\n",
      "Requirement already satisfied: ipywidgets>=7.5.0 in /Users/kritik/opt/anaconda3/lib/python3.7/site-packages (from ipympl) (7.5.1)\n",
      "Requirement already satisfied: matplotlib>=2.0.0 in /Users/kritik/opt/anaconda3/lib/python3.7/site-packages (from ipympl) (3.1.3)\n",
      "Requirement already satisfied: ipython>=5.0.0 in /Users/kritik/opt/anaconda3/lib/python3.7/site-packages (from ipykernel>=4.7->ipympl) (7.12.0)\n",
      "Requirement already satisfied: appnope; platform_system == \"Darwin\" in /Users/kritik/opt/anaconda3/lib/python3.7/site-packages (from ipykernel>=4.7->ipympl) (0.1.0)\n",
      "Requirement already satisfied: jupyter-client in /Users/kritik/opt/anaconda3/lib/python3.7/site-packages (from ipykernel>=4.7->ipympl) (5.3.4)\n",
      "Requirement already satisfied: traitlets>=4.1.0 in /Users/kritik/opt/anaconda3/lib/python3.7/site-packages (from ipykernel>=4.7->ipympl) (4.3.3)\n",
      "Requirement already satisfied: tornado>=4.2 in /Users/kritik/opt/anaconda3/lib/python3.7/site-packages (from ipykernel>=4.7->ipympl) (6.0.3)\n",
      "Requirement already satisfied: widgetsnbextension~=3.5.0 in /Users/kritik/opt/anaconda3/lib/python3.7/site-packages (from ipywidgets>=7.5.0->ipympl) (3.5.1)\n",
      "Requirement already satisfied: nbformat>=4.2.0 in /Users/kritik/opt/anaconda3/lib/python3.7/site-packages (from ipywidgets>=7.5.0->ipympl) (5.0.4)\n",
      "Requirement already satisfied: cycler>=0.10 in /Users/kritik/opt/anaconda3/lib/python3.7/site-packages (from matplotlib>=2.0.0->ipympl) (0.10.0)\n",
      "Requirement already satisfied: kiwisolver>=1.0.1 in /Users/kritik/opt/anaconda3/lib/python3.7/site-packages (from matplotlib>=2.0.0->ipympl) (1.1.0)\n",
      "Requirement already satisfied: pyparsing!=2.0.4,!=2.1.2,!=2.1.6,>=2.0.1 in /Users/kritik/opt/anaconda3/lib/python3.7/site-packages (from matplotlib>=2.0.0->ipympl) (2.4.6)\n",
      "Requirement already satisfied: numpy>=1.11 in /Users/kritik/.local/lib/python3.7/site-packages (from matplotlib>=2.0.0->ipympl) (1.16.6)\n",
      "Requirement already satisfied: python-dateutil>=2.1 in /Users/kritik/opt/anaconda3/lib/python3.7/site-packages (from matplotlib>=2.0.0->ipympl) (2.8.1)\n",
      "Requirement already satisfied: setuptools>=18.5 in /Users/kritik/opt/anaconda3/lib/python3.7/site-packages (from ipython>=5.0.0->ipykernel>=4.7->ipympl) (49.2.0)\n",
      "Requirement already satisfied: backcall in /Users/kritik/opt/anaconda3/lib/python3.7/site-packages (from ipython>=5.0.0->ipykernel>=4.7->ipympl) (0.1.0)\n",
      "Requirement already satisfied: pexpect; sys_platform != \"win32\" in /Users/kritik/opt/anaconda3/lib/python3.7/site-packages (from ipython>=5.0.0->ipykernel>=4.7->ipympl) (4.8.0)\n",
      "Requirement already satisfied: pickleshare in /Users/kritik/opt/anaconda3/lib/python3.7/site-packages (from ipython>=5.0.0->ipykernel>=4.7->ipympl) (0.7.5)\n",
      "Requirement already satisfied: decorator in /Users/kritik/opt/anaconda3/lib/python3.7/site-packages (from ipython>=5.0.0->ipykernel>=4.7->ipympl) (4.4.1)\n",
      "Requirement already satisfied: prompt-toolkit!=3.0.0,!=3.0.1,<3.1.0,>=2.0.0 in /Users/kritik/opt/anaconda3/lib/python3.7/site-packages (from ipython>=5.0.0->ipykernel>=4.7->ipympl) (3.0.3)\n",
      "Requirement already satisfied: pygments in /Users/kritik/opt/anaconda3/lib/python3.7/site-packages (from ipython>=5.0.0->ipykernel>=4.7->ipympl) (2.5.2)\n",
      "Requirement already satisfied: jedi>=0.10 in /Users/kritik/opt/anaconda3/lib/python3.7/site-packages (from ipython>=5.0.0->ipykernel>=4.7->ipympl) (0.14.1)\n",
      "Requirement already satisfied: jupyter-core>=4.6.0 in /Users/kritik/opt/anaconda3/lib/python3.7/site-packages (from jupyter-client->ipykernel>=4.7->ipympl) (4.6.1)\n",
      "Requirement already satisfied: pyzmq>=13 in /Users/kritik/opt/anaconda3/lib/python3.7/site-packages (from jupyter-client->ipykernel>=4.7->ipympl) (18.1.1)\n",
      "Requirement already satisfied: six in /Users/kritik/.local/lib/python3.7/site-packages (from traitlets>=4.1.0->ipykernel>=4.7->ipympl) (1.15.0)\n",
      "Requirement already satisfied: ipython-genutils in /Users/kritik/opt/anaconda3/lib/python3.7/site-packages (from traitlets>=4.1.0->ipykernel>=4.7->ipympl) (0.2.0)\n",
      "Requirement already satisfied: notebook>=4.4.1 in /Users/kritik/opt/anaconda3/lib/python3.7/site-packages (from widgetsnbextension~=3.5.0->ipywidgets>=7.5.0->ipympl) (6.0.3)\n",
      "Requirement already satisfied: jsonschema!=2.5.0,>=2.4 in /Users/kritik/opt/anaconda3/lib/python3.7/site-packages (from nbformat>=4.2.0->ipywidgets>=7.5.0->ipympl) (3.2.0)\n",
      "Requirement already satisfied: ptyprocess>=0.5 in /Users/kritik/opt/anaconda3/lib/python3.7/site-packages (from pexpect; sys_platform != \"win32\"->ipython>=5.0.0->ipykernel>=4.7->ipympl) (0.6.0)\n",
      "Requirement already satisfied: wcwidth in /Users/kritik/opt/anaconda3/lib/python3.7/site-packages (from prompt-toolkit!=3.0.0,!=3.0.1,<3.1.0,>=2.0.0->ipython>=5.0.0->ipykernel>=4.7->ipympl) (0.1.8)\n",
      "Requirement already satisfied: parso>=0.5.0 in /Users/kritik/opt/anaconda3/lib/python3.7/site-packages (from jedi>=0.10->ipython>=5.0.0->ipykernel>=4.7->ipympl) (0.5.2)\n",
      "Requirement already satisfied: prometheus-client in /Users/kritik/opt/anaconda3/lib/python3.7/site-packages (from notebook>=4.4.1->widgetsnbextension~=3.5.0->ipywidgets>=7.5.0->ipympl) (0.7.1)\n",
      "Requirement already satisfied: nbconvert in /Users/kritik/opt/anaconda3/lib/python3.7/site-packages (from notebook>=4.4.1->widgetsnbextension~=3.5.0->ipywidgets>=7.5.0->ipympl) (5.6.1)\n",
      "Requirement already satisfied: jinja2 in /Users/kritik/.local/lib/python3.7/site-packages (from notebook>=4.4.1->widgetsnbextension~=3.5.0->ipywidgets>=7.5.0->ipympl) (2.11.2)\n",
      "Requirement already satisfied: Send2Trash in /Users/kritik/opt/anaconda3/lib/python3.7/site-packages (from notebook>=4.4.1->widgetsnbextension~=3.5.0->ipywidgets>=7.5.0->ipympl) (1.5.0)\n",
      "Requirement already satisfied: terminado>=0.8.1 in /Users/kritik/opt/anaconda3/lib/python3.7/site-packages (from notebook>=4.4.1->widgetsnbextension~=3.5.0->ipywidgets>=7.5.0->ipympl) (0.8.3)\n",
      "Requirement already satisfied: pyrsistent>=0.14.0 in /Users/kritik/opt/anaconda3/lib/python3.7/site-packages (from jsonschema!=2.5.0,>=2.4->nbformat>=4.2.0->ipywidgets>=7.5.0->ipympl) (0.15.7)\n",
      "Requirement already satisfied: attrs>=17.4.0 in /Users/kritik/opt/anaconda3/lib/python3.7/site-packages (from jsonschema!=2.5.0,>=2.4->nbformat>=4.2.0->ipywidgets>=7.5.0->ipympl) (19.3.0)\n",
      "Requirement already satisfied: importlib-metadata; python_version < \"3.8\" in /Users/kritik/opt/anaconda3/lib/python3.7/site-packages (from jsonschema!=2.5.0,>=2.4->nbformat>=4.2.0->ipywidgets>=7.5.0->ipympl) (1.5.0)\n",
      "Requirement already satisfied: mistune<2,>=0.8.1 in /Users/kritik/opt/anaconda3/lib/python3.7/site-packages (from nbconvert->notebook>=4.4.1->widgetsnbextension~=3.5.0->ipywidgets>=7.5.0->ipympl) (0.8.4)\n",
      "Requirement already satisfied: testpath in /Users/kritik/opt/anaconda3/lib/python3.7/site-packages (from nbconvert->notebook>=4.4.1->widgetsnbextension~=3.5.0->ipywidgets>=7.5.0->ipympl) (0.4.4)\n",
      "Requirement already satisfied: bleach in /Users/kritik/opt/anaconda3/lib/python3.7/site-packages (from nbconvert->notebook>=4.4.1->widgetsnbextension~=3.5.0->ipywidgets>=7.5.0->ipympl) (3.1.0)\n",
      "Requirement already satisfied: pandocfilters>=1.4.1 in /Users/kritik/opt/anaconda3/lib/python3.7/site-packages (from nbconvert->notebook>=4.4.1->widgetsnbextension~=3.5.0->ipywidgets>=7.5.0->ipympl) (1.4.2)\n",
      "Requirement already satisfied: entrypoints>=0.2.2 in /Users/kritik/opt/anaconda3/lib/python3.7/site-packages (from nbconvert->notebook>=4.4.1->widgetsnbextension~=3.5.0->ipywidgets>=7.5.0->ipympl) (0.3)\n",
      "Requirement already satisfied: defusedxml in /Users/kritik/opt/anaconda3/lib/python3.7/site-packages (from nbconvert->notebook>=4.4.1->widgetsnbextension~=3.5.0->ipywidgets>=7.5.0->ipympl) (0.6.0)\n",
      "Requirement already satisfied: MarkupSafe>=0.23 in /Users/kritik/opt/anaconda3/lib/python3.7/site-packages (from jinja2->notebook>=4.4.1->widgetsnbextension~=3.5.0->ipywidgets>=7.5.0->ipympl) (1.1.1)\n",
      "Requirement already satisfied: zipp>=0.5 in /Users/kritik/opt/anaconda3/lib/python3.7/site-packages (from importlib-metadata; python_version < \"3.8\"->jsonschema!=2.5.0,>=2.4->nbformat>=4.2.0->ipywidgets>=7.5.0->ipympl) (2.2.0)\n",
      "Requirement already satisfied: webencodings in /Users/kritik/opt/anaconda3/lib/python3.7/site-packages (from bleach->nbconvert->notebook>=4.4.1->widgetsnbextension~=3.5.0->ipywidgets>=7.5.0->ipympl) (0.5.1)\n",
      "Installing collected packages: ipympl\n",
      "Successfully installed ipympl-0.5.7\n",
      "Requirement already satisfied: ipywidgets in /Users/kritik/opt/anaconda3/lib/python3.7/site-packages (7.5.1)\n",
      "Requirement already satisfied: ipython>=4.0.0; python_version >= \"3.3\" in /Users/kritik/opt/anaconda3/lib/python3.7/site-packages (from ipywidgets) (7.12.0)\n",
      "Requirement already satisfied: ipykernel>=4.5.1 in /Users/kritik/opt/anaconda3/lib/python3.7/site-packages (from ipywidgets) (5.1.4)\n",
      "Requirement already satisfied: traitlets>=4.3.1 in /Users/kritik/opt/anaconda3/lib/python3.7/site-packages (from ipywidgets) (4.3.3)\n",
      "Requirement already satisfied: nbformat>=4.2.0 in /Users/kritik/opt/anaconda3/lib/python3.7/site-packages (from ipywidgets) (5.0.4)\n",
      "Requirement already satisfied: widgetsnbextension~=3.5.0 in /Users/kritik/opt/anaconda3/lib/python3.7/site-packages (from ipywidgets) (3.5.1)\n",
      "Requirement already satisfied: appnope; sys_platform == \"darwin\" in /Users/kritik/opt/anaconda3/lib/python3.7/site-packages (from ipython>=4.0.0; python_version >= \"3.3\"->ipywidgets) (0.1.0)\n",
      "Requirement already satisfied: decorator in /Users/kritik/opt/anaconda3/lib/python3.7/site-packages (from ipython>=4.0.0; python_version >= \"3.3\"->ipywidgets) (4.4.1)\n",
      "Requirement already satisfied: jedi>=0.10 in /Users/kritik/opt/anaconda3/lib/python3.7/site-packages (from ipython>=4.0.0; python_version >= \"3.3\"->ipywidgets) (0.14.1)\n",
      "Requirement already satisfied: pygments in /Users/kritik/opt/anaconda3/lib/python3.7/site-packages (from ipython>=4.0.0; python_version >= \"3.3\"->ipywidgets) (2.5.2)\n",
      "Requirement already satisfied: setuptools>=18.5 in /Users/kritik/opt/anaconda3/lib/python3.7/site-packages (from ipython>=4.0.0; python_version >= \"3.3\"->ipywidgets) (49.2.0)\n",
      "Requirement already satisfied: backcall in /Users/kritik/opt/anaconda3/lib/python3.7/site-packages (from ipython>=4.0.0; python_version >= \"3.3\"->ipywidgets) (0.1.0)\n",
      "Requirement already satisfied: prompt-toolkit!=3.0.0,!=3.0.1,<3.1.0,>=2.0.0 in /Users/kritik/opt/anaconda3/lib/python3.7/site-packages (from ipython>=4.0.0; python_version >= \"3.3\"->ipywidgets) (3.0.3)\n",
      "Requirement already satisfied: pexpect; sys_platform != \"win32\" in /Users/kritik/opt/anaconda3/lib/python3.7/site-packages (from ipython>=4.0.0; python_version >= \"3.3\"->ipywidgets) (4.8.0)\n",
      "Requirement already satisfied: pickleshare in /Users/kritik/opt/anaconda3/lib/python3.7/site-packages (from ipython>=4.0.0; python_version >= \"3.3\"->ipywidgets) (0.7.5)\n",
      "Requirement already satisfied: jupyter-client in /Users/kritik/opt/anaconda3/lib/python3.7/site-packages (from ipykernel>=4.5.1->ipywidgets) (5.3.4)\n",
      "Requirement already satisfied: tornado>=4.2 in /Users/kritik/opt/anaconda3/lib/python3.7/site-packages (from ipykernel>=4.5.1->ipywidgets) (6.0.3)\n",
      "Requirement already satisfied: six in /Users/kritik/.local/lib/python3.7/site-packages (from traitlets>=4.3.1->ipywidgets) (1.15.0)\n",
      "Requirement already satisfied: ipython-genutils in /Users/kritik/opt/anaconda3/lib/python3.7/site-packages (from traitlets>=4.3.1->ipywidgets) (0.2.0)\n",
      "Requirement already satisfied: jupyter-core in /Users/kritik/opt/anaconda3/lib/python3.7/site-packages (from nbformat>=4.2.0->ipywidgets) (4.6.1)\n",
      "Requirement already satisfied: jsonschema!=2.5.0,>=2.4 in /Users/kritik/opt/anaconda3/lib/python3.7/site-packages (from nbformat>=4.2.0->ipywidgets) (3.2.0)\n",
      "Requirement already satisfied: notebook>=4.4.1 in /Users/kritik/opt/anaconda3/lib/python3.7/site-packages (from widgetsnbextension~=3.5.0->ipywidgets) (6.0.3)\n",
      "Requirement already satisfied: parso>=0.5.0 in /Users/kritik/opt/anaconda3/lib/python3.7/site-packages (from jedi>=0.10->ipython>=4.0.0; python_version >= \"3.3\"->ipywidgets) (0.5.2)\n",
      "Requirement already satisfied: wcwidth in /Users/kritik/opt/anaconda3/lib/python3.7/site-packages (from prompt-toolkit!=3.0.0,!=3.0.1,<3.1.0,>=2.0.0->ipython>=4.0.0; python_version >= \"3.3\"->ipywidgets) (0.1.8)\n",
      "Requirement already satisfied: ptyprocess>=0.5 in /Users/kritik/opt/anaconda3/lib/python3.7/site-packages (from pexpect; sys_platform != \"win32\"->ipython>=4.0.0; python_version >= \"3.3\"->ipywidgets) (0.6.0)\n",
      "Requirement already satisfied: pyzmq>=13 in /Users/kritik/opt/anaconda3/lib/python3.7/site-packages (from jupyter-client->ipykernel>=4.5.1->ipywidgets) (18.1.1)\n",
      "Requirement already satisfied: python-dateutil>=2.1 in /Users/kritik/opt/anaconda3/lib/python3.7/site-packages (from jupyter-client->ipykernel>=4.5.1->ipywidgets) (2.8.1)\n",
      "Requirement already satisfied: importlib-metadata; python_version < \"3.8\" in /Users/kritik/opt/anaconda3/lib/python3.7/site-packages (from jsonschema!=2.5.0,>=2.4->nbformat>=4.2.0->ipywidgets) (1.5.0)\n",
      "Requirement already satisfied: attrs>=17.4.0 in /Users/kritik/opt/anaconda3/lib/python3.7/site-packages (from jsonschema!=2.5.0,>=2.4->nbformat>=4.2.0->ipywidgets) (19.3.0)\n",
      "Requirement already satisfied: pyrsistent>=0.14.0 in /Users/kritik/opt/anaconda3/lib/python3.7/site-packages (from jsonschema!=2.5.0,>=2.4->nbformat>=4.2.0->ipywidgets) (0.15.7)\n",
      "Requirement already satisfied: terminado>=0.8.1 in /Users/kritik/opt/anaconda3/lib/python3.7/site-packages (from notebook>=4.4.1->widgetsnbextension~=3.5.0->ipywidgets) (0.8.3)\n",
      "Requirement already satisfied: jinja2 in /Users/kritik/.local/lib/python3.7/site-packages (from notebook>=4.4.1->widgetsnbextension~=3.5.0->ipywidgets) (2.11.2)\n",
      "Requirement already satisfied: nbconvert in /Users/kritik/opt/anaconda3/lib/python3.7/site-packages (from notebook>=4.4.1->widgetsnbextension~=3.5.0->ipywidgets) (5.6.1)\n",
      "Requirement already satisfied: prometheus-client in /Users/kritik/opt/anaconda3/lib/python3.7/site-packages (from notebook>=4.4.1->widgetsnbextension~=3.5.0->ipywidgets) (0.7.1)\n",
      "Requirement already satisfied: Send2Trash in /Users/kritik/opt/anaconda3/lib/python3.7/site-packages (from notebook>=4.4.1->widgetsnbextension~=3.5.0->ipywidgets) (1.5.0)\n",
      "Requirement already satisfied: zipp>=0.5 in /Users/kritik/opt/anaconda3/lib/python3.7/site-packages (from importlib-metadata; python_version < \"3.8\"->jsonschema!=2.5.0,>=2.4->nbformat>=4.2.0->ipywidgets) (2.2.0)\n",
      "Requirement already satisfied: MarkupSafe>=0.23 in /Users/kritik/opt/anaconda3/lib/python3.7/site-packages (from jinja2->notebook>=4.4.1->widgetsnbextension~=3.5.0->ipywidgets) (1.1.1)\n",
      "Requirement already satisfied: testpath in /Users/kritik/opt/anaconda3/lib/python3.7/site-packages (from nbconvert->notebook>=4.4.1->widgetsnbextension~=3.5.0->ipywidgets) (0.4.4)\n",
      "Requirement already satisfied: pandocfilters>=1.4.1 in /Users/kritik/opt/anaconda3/lib/python3.7/site-packages (from nbconvert->notebook>=4.4.1->widgetsnbextension~=3.5.0->ipywidgets) (1.4.2)\n",
      "Requirement already satisfied: entrypoints>=0.2.2 in /Users/kritik/opt/anaconda3/lib/python3.7/site-packages (from nbconvert->notebook>=4.4.1->widgetsnbextension~=3.5.0->ipywidgets) (0.3)\n",
      "Requirement already satisfied: mistune<2,>=0.8.1 in /Users/kritik/opt/anaconda3/lib/python3.7/site-packages (from nbconvert->notebook>=4.4.1->widgetsnbextension~=3.5.0->ipywidgets) (0.8.4)\n",
      "Requirement already satisfied: bleach in /Users/kritik/opt/anaconda3/lib/python3.7/site-packages (from nbconvert->notebook>=4.4.1->widgetsnbextension~=3.5.0->ipywidgets) (3.1.0)\n",
      "Requirement already satisfied: defusedxml in /Users/kritik/opt/anaconda3/lib/python3.7/site-packages (from nbconvert->notebook>=4.4.1->widgetsnbextension~=3.5.0->ipywidgets) (0.6.0)\n",
      "Requirement already satisfied: webencodings in /Users/kritik/opt/anaconda3/lib/python3.7/site-packages (from bleach->nbconvert->notebook>=4.4.1->widgetsnbextension~=3.5.0->ipywidgets) (0.5.1)\n"
     ]
    }
   ],
   "source": [
    "!pip install ipympl --user\n",
    "!pip install ipywidgets --user"
   ]
  },
  {
   "cell_type": "code",
   "execution_count": 15,
   "metadata": {},
   "outputs": [
    {
     "name": "stdout",
     "output_type": "stream",
     "text": [
      "Traceback (most recent call last):\n",
      "  File \"/Users/kritik/opt/anaconda3/bin/jupyter\", line 11, in <module>\n",
      "    sys.exit(main())\n",
      "  File \"/Users/kritik/opt/anaconda3/lib/python3.7/site-packages/jupyter_core/command.py\", line 247, in main\n",
      "    command = _jupyter_abspath(subcommand)\n",
      "  File \"/Users/kritik/opt/anaconda3/lib/python3.7/site-packages/jupyter_core/command.py\", line 134, in _jupyter_abspath\n",
      "    'Jupyter command `{}` not found.'.format(jupyter_subcommand)\n",
      "Exception: Jupyter command `jupyter-nbextensions` not found.\n",
      "Traceback (most recent call last):\n",
      "  File \"/Users/kritik/opt/anaconda3/bin/jupyter\", line 11, in <module>\n",
      "    sys.exit(main())\n",
      "  File \"/Users/kritik/opt/anaconda3/lib/python3.7/site-packages/jupyter_core/command.py\", line 247, in main\n",
      "    command = _jupyter_abspath(subcommand)\n",
      "  File \"/Users/kritik/opt/anaconda3/lib/python3.7/site-packages/jupyter_core/command.py\", line 134, in _jupyter_abspath\n",
      "    'Jupyter command `{}` not found.'.format(jupyter_subcommand)\n",
      "Exception: Jupyter command `jupyter-nbextensions` not found.\n"
     ]
    }
   ],
   "source": [
    "!jupyter nbextensions enable --py --sys--prefix widgetsnbextension\n",
    "!jupyter nbextensions install --py --symlink --sys--prefix ipympl"
   ]
  },
  {
   "cell_type": "code",
   "execution_count": 9,
   "metadata": {},
   "outputs": [],
   "source": [
    "#Data generation\n",
    "rng = np.random.RandomState(1)\n",
    "X = 10 * rng.rand(200)\n",
    "y = 2 * X - 5 + rng.randn(200)"
   ]
  },
  {
   "cell_type": "code",
   "execution_count": 10,
   "metadata": {},
   "outputs": [
    {
     "data": {
      "text/plain": [
       "(-8.476660143215415, 17.08895915194328)"
      ]
     },
     "execution_count": 10,
     "metadata": {},
     "output_type": "execute_result"
    },
    {
     "data": {
      "image/png": "[encoded data removed]",
      "text/plain": [
       "<Figure size 432x288 with 1 Axes>"
      ]
     },
     "metadata": {
      "needs_background": "light"
     },
     "output_type": "display_data"
    }
   ],
   "source": [
    "plt.ion()\n",
    "fig = plt.figure()\n",
    "ax = fig.add_subplot(111)\n",
    "ax.set_xlim(X.min()-1,X.max()+1)\n",
    "ax.set_ylim(y.min()-1,y.max()+1)"
   ]
  },
  {
   "cell_type": "code",
   "execution_count": 11,
   "metadata": {},
   "outputs": [],
   "source": [
    "plt.show(block=False)"
   ]
  },
  {
   "cell_type": "code",
   "execution_count": 12,
   "metadata": {},
   "outputs": [],
   "source": [
    "#cost function using root mean square\n",
    "def cost_fun_rmse(X,y,B1,B0):\n",
    "    y_pred = X*B1 + B0\n",
    "    return np.sum(np.square(y-y_pred))/X.shape[0]\n",
    "\n",
    "#Gradient descent\n",
    "def gradient_descent(X,y,alpha,B1,B0):\n",
    "    y_pred = X*B1 + B0\n",
    "    y_diff = (y - y_pred)\n",
    "    t_B1 = -2*(np.sum(y_diff*X)/X.shape[0])\n",
    "    t_B0 = -2*(np.sum(y_diff)/X.shape[0])\n",
    "    B1 = B1 - alpha*t_B1\n",
    "    B0 = B0 - alpha*t_B0\n",
    "    return (B1, B0)"
   ]
  },
  {
   "cell_type": "code",
   "execution_count": 13,
   "metadata": {},
   "outputs": [],
   "source": [
    "B1 = 1     #slope\n",
    "B0 = 1     #interscept\n",
    "alpha = 0.005\n",
    "iter_num = 1000   # number of iterations\n",
    "x_vals = np.arange(ax.get_xlim()[0],ax.get_xlim()[1],0.01)\n",
    "ax.scatter(X,y,s=2)\n",
    "ax.set_title('Linear Regression with Gradient Descent', fontsize = 14)\n",
    "for i in range(iter_num):\n",
    "    ax.legend(['      Slope B1:= '+ str(round(B1,4)) + '\\n' +'Intercept B0:= ' + str(round(B0,4)) ])\n",
    "    B1, B0 = gradient_descent(X,y,alpha,B1,B0)\n",
    "    y_vals = x_vals*B1 + B0\n",
    "    plt_obj = ax.scatter(x_vals,y_vals,marker = 'x',c = 'C1',s = 1)\n",
    "    #time.sleep(0.01)\n",
    "    fig.canvas.draw()\n",
    "    fig.canvas.flush_events()\n",
    "    if i != iter_num -1:\n",
    "        plt_obj.remove()\n",
    "plt.close(fig)"
   ]
  }
 ],
 "metadata": {
  "kernelspec": {
   "display_name": "Python 3",
   "language": "python",
   "name": "python3"
  },
  "language_info": {
   "codemirror_mode": {
    "name": "ipython",
    "version": 3
   },
   "file_extension": ".py",
   "mimetype": "text/x-python",
   "name": "python",
   "nbconvert_exporter": "python",
   "pygments_lexer": "ipython3",
   "version": "3.7.6"
  }
 },
 "nbformat": 4,
 "nbformat_minor": 4
}
