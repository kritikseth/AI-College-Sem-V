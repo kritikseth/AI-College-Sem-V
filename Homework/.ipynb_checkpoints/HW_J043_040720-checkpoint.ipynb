{
 "cells": [
  {
   "cell_type": "markdown",
   "metadata": {
    "colab_type": "text",
    "id": "4EBZ8D2G_Yvs"
   },
   "source": [
    "### Python If-Else\n",
    "Task \n",
    "Given an integer, , perform the following conditional actions:\n",
    "* If  is odd, print Weird\n",
    "* If  is even and in the inclusive range of  to , print Not Weird\n",
    "* If  is even and in the inclusive range of  to , print Weird\n",
    "* If  is even and greater than , print Not Weird\n",
    "Input Format\n",
    "A single line containing a positive integer\n",
    "\n",
    "Output Format\n",
    "Print Weird if the number is weird; otherwise, print Not Weird."
   ]
  },
  {
   "cell_type": "code",
   "execution_count": null,
   "metadata": {
    "colab": {},
    "colab_type": "code",
    "id": "5N9GYgV80Z2Q"
   },
   "outputs": [],
   "source": [
    "if __name__ == '__main__':\n",
    "    n = int(input().strip())\n",
    "    if (n%2!= 0) or (n%2==0 and n in range(6,21)):\n",
    "        print('Weird')\n",
    "    elif (n%2==0 and n in range(2,6)) or (n%2==0 and n>20):\n",
    "        print('Not Weird')"
   ]
  },
  {
   "cell_type": "markdown",
   "metadata": {
    "colab_type": "text",
    "id": "9RCpzRA9_Y4f"
   },
   "source": [
    "### Arithmetic Operators\n",
    "Task \n",
    "Read two integers from STDIN and print three lines where:\n",
    "1. The first line contains the sum of the two numbers.\n",
    "2. The second line contains the difference of the two numbers (first - second).\n",
    "3. The third line contains the product of the two numbers.\n",
    "Input Format\n",
    "The first line contains the first integer, . The second line contains the second integer. \n",
    "\n",
    "Output Format\n",
    "Print the three lines as explained above.\n"
   ]
  },
  {
   "cell_type": "code",
   "execution_count": null,
   "metadata": {
    "colab": {},
    "colab_type": "code",
    "id": "rO8WtVpM1Z5C"
   },
   "outputs": [],
   "source": [
    "if __name__ == '__main__':\n",
    "    a = int(input())\n",
    "    b = int(input())\n",
    "    print(f'{a+b}\\n{a-b}\\n{a*b}')"
   ]
  },
  {
   "cell_type": "markdown",
   "metadata": {
    "colab_type": "text",
    "id": "kDS41fmj_aR8"
   },
   "source": [
    "### Python Division\n",
    "Task \n",
    "Read two integers and print two lines.\n",
    "The first line should contain integer division, a//b . The second line should contain float division,  a/b\n",
    "\n",
    "You don't need to perform any rounding or formatting operations.\n",
    "\n",
    "Input Format\n",
    "The first line contains the first integer, . The second line contains the second integer.\n",
    "\n",
    "Output Format\n",
    "Print the two lines as described above."
   ]
  },
  {
   "cell_type": "code",
   "execution_count": null,
   "metadata": {
    "colab": {},
    "colab_type": "code",
    "id": "qnJvkJ7k2Cth"
   },
   "outputs": [],
   "source": [
    "if __name__ == '__main__':\n",
    "    a = int(input())\n",
    "    b = int(input())\n",
    "    print(f'{a//b}\\n{a/b}')"
   ]
  },
  {
   "cell_type": "markdown",
   "metadata": {
    "colab_type": "text",
    "id": "Fhiq2i8_ClM3"
   },
   "source": [
    "### Loops\n",
    "Task \n",
    "Read an integer N. For all non-negative integers, print iˆ2. \n",
    "\n",
    "Input Format\n",
    "The first and only line contains the integer.\n",
    "\n",
    "Output Format\n",
    "\n",
    "Print N lines, one corresponding to each i."
   ]
  },
  {
   "cell_type": "code",
   "execution_count": null,
   "metadata": {
    "colab": {},
    "colab_type": "code",
    "id": "NUnyqKkB2xOI"
   },
   "outputs": [],
   "source": [
    "if __name__ == '__main__':\n",
    "    n = int(input())\n",
    "    for i in range(n):\n",
    "        print(i**2)"
   ]
  },
  {
   "cell_type": "markdown",
   "metadata": {
    "colab_type": "text",
    "id": "c_w5i9MBDYDN"
   },
   "source": [
    "### Write a function\n",
    "\n",
    "We add a Leap Day on February 29, almost every four years. The leap day is an extra, or intercalary day and we add it to the shortest month of the year, February. \n",
    "In the Gregorian calendar three criteria must be taken into account to identify leap years:\n",
    "\n",
    "* The year can be evenly divided by 4, is a leap year, unless:\n",
    "* The year can be evenly divided by 100, it is NOT a leap year, unless:\n",
    "* The year is also evenly divisible by 400. Then it is a leap year.\n",
    "\n",
    "This means that in the Gregorian calendar, the years 2000 and 2400 are leap years, while 1800, 1900, 2100, 2200, 2300 and 2500 are NOT leap years.\n",
    "Source\n",
    "\n",
    "Task \n",
    "\n",
    "You are given the year, and you have to write a function to check if the year is leap or not.\n",
    "\n",
    "Note that you have to complete the function and remaining code is given as template.\n",
    "\n",
    "Input Format\n",
    "Read y, the year that needs to be checked."
   ]
  },
  {
   "cell_type": "code",
   "execution_count": null,
   "metadata": {
    "colab": {},
    "colab_type": "code",
    "id": "ReU_V1j-3zAi"
   },
   "outputs": [],
   "source": [
    "def is_leap(year):\n",
    "    leap = False\n",
    "    if year%4==0 and (year%100!=0 or year%400==0):\n",
    "        leap = True\n",
    "    return leap\n",
    "\n",
    "year = int(input())\n",
    "print(is_leap(year))"
   ]
  },
  {
   "cell_type": "markdown",
   "metadata": {
    "colab_type": "text",
    "id": "7HPh1-bmC8J4"
   },
   "source": [
    "### Print Function\n",
    "\n",
    "Read an integer N.\n",
    "Without using any string methods, try to print the following: 123..N\n",
    "\n",
    "Note that \"...\" represents the values in between.\n",
    "\n",
    "Input Format\n",
    "The first line contains an integer N.\n",
    "\n",
    "Output Format\n",
    "Output the answer as explained in the task."
   ]
  },
  {
   "cell_type": "code",
   "execution_count": null,
   "metadata": {
    "colab": {},
    "colab_type": "code",
    "id": "4E27GmCD5BWb"
   },
   "outputs": [],
   "source": [
    "if __name__ == '__main__':\n",
    "    n = int(input())\n",
    "    for i in range(1,n+1):\n",
    "        print(i,end='')"
   ]
  },
  {
   "cell_type": "markdown",
   "metadata": {
    "colab_type": "text",
    "id": "LjPEH_0nDPWG"
   },
   "source": [
    "### List Comprehensions\n",
    "\n",
    "You are given three integers X, Y, Z and N representing the dimensions of a cuboid along with an integer. You have to print a list of all possible coordinates given by (i,j,k) on a 3D grid where the sum of is not equal to N."
   ]
  },
  {
   "cell_type": "code",
   "execution_count": null,
   "metadata": {
    "colab": {},
    "colab_type": "code",
    "id": "iI_rKe629XkP"
   },
   "outputs": [],
   "source": [
    "if __name__ == '__main__':\n",
    "    x = int(input())\n",
    "    y = int(input())\n",
    "    z = int(input())\n",
    "    n = int(input())\n",
    "    print([[i,j,k] for i in range(x+1) for j in range(y+1) for k in range(z+1) if i+j+k!=n])"
   ]
  }
 ],
 "metadata": {
  "colab": {
   "authorship_tag": "ABX9TyNFcGZNdcqYvhI/HdQbLfwe",
   "name": "HW_J043_040720.ipynb",
   "provenance": []
  },
  "kernelspec": {
   "display_name": "Python 3",
   "language": "python",
   "name": "python3"
  },
  "language_info": {
   "codemirror_mode": {
    "name": "ipython",
    "version": 3
   },
   "file_extension": ".py",
   "mimetype": "text/x-python",
   "name": "python",
   "nbconvert_exporter": "python",
   "pygments_lexer": "ipython3",
   "version": "3.7.6"
  }
 },
 "nbformat": 4,
 "nbformat_minor": 1
}
