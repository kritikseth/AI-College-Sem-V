{
 "cells": [
  {
   "cell_type": "code",
   "execution_count": 1,
   "metadata": {},
   "outputs": [],
   "source": [
    "class DataRead():\n",
    "    \n",
    "    def __init__(self,file_path):\n",
    "        import pandas as pd\n",
    "        self.file = pd.read_csv(file_path)\n",
    "        \n",
    "    def random_rows(self):\n",
    "        import random as rd\n",
    "        rows = rd.sample(range(0,len(self.file)),2)\n",
    "        rows = self.file.iloc[rows]\n",
    "        return rows\n",
    "    \n",
    "class DataRead2(DataRead):\n",
    "    \n",
    "    def __init__(self,file_path):\n",
    "        DataRead.__init__(self,file_path)\n",
    "        \n",
    "    def correlation_plot(self):\n",
    "        import seaborn as sns\n",
    "        sns.heatmap(self.file.corr())\n",
    "        \n",
    "    def random_rows(self):\n",
    "        import random as rd\n",
    "        rows = rd.sample(range(0,len(self.file)),3)\n",
    "        rows = self.file.iloc[rows]\n",
    "        return rows\n",
    "        "
   ]
  },
  {
   "cell_type": "code",
   "execution_count": 2,
   "metadata": {},
   "outputs": [],
   "source": [
    "dr = DataRead2('https://raw.githubusercontent.com/kritikseth/Datasets/master/depression.csv')"
   ]
  },
  {
   "cell_type": "code",
   "execution_count": 3,
   "metadata": {},
   "outputs": [
    {
     "name": "stdout",
     "output_type": "stream",
     "text": [
      "    Hospt  Treat  Outcome       Time  AcuteT  Age  Gender\n",
      "42      3      2        1  31.000000     181   28       1\n",
      "88      6      0        1   5.286000     214   23       1\n",
      "72      5      1        1  92.713997     105   23       1\n"
     ]
    }
   ],
   "source": [
    "print(dr.random_rows())"
   ]
  },
  {
   "cell_type": "code",
   "execution_count": 4,
   "metadata": {},
   "outputs": [
    {
     "data": {
      "image/png": "[encoded data removed]",
      "text/plain": [
       "<Figure size 432x288 with 2 Axes>"
      ]
     },
     "metadata": {
      "needs_background": "light"
     },
     "output_type": "display_data"
    }
   ],
   "source": [
    "dr.correlation_plot()"
   ]
  }
 ],
 "metadata": {
  "kernelspec": {
   "display_name": "Python 3",
   "language": "python",
   "name": "python3"
  },
  "language_info": {
   "codemirror_mode": {
    "name": "ipython",
    "version": 3
   },
   "file_extension": ".py",
   "mimetype": "text/x-python",
   "name": "python",
   "nbconvert_exporter": "python",
   "pygments_lexer": "ipython3",
   "version": "3.7.6"
  }
 },
 "nbformat": 4,
 "nbformat_minor": 4
}
