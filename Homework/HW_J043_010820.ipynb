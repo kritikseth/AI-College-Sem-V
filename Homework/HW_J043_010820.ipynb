{
 "cells": [
  {
   "cell_type": "markdown",
   "metadata": {},
   "source": [
    "<a href=\"https://kritikseth.github.io/ipynbtagredirect\" target=\"_parent\"><img src=\"https://raw.githack.com/kritikseth/kritikseth/master/assets/icons/kritik_ipynbtagredirect.svg\" alt=\"Kritik Seth\"/></a>"
   ]
  },
  {
   "cell_type": "markdown",
   "metadata": {
    "colab_type": "text",
    "id": "iOqwUp5oy1FW"
   },
   "source": [
    "# AI- Dynamic Programming Homework-\n",
    "\n",
    "[Collab Notebook](https://colab.research.google.com/drive/17To8_aVcGOJ9Bos1bfJoftVTtLhQFXOi?usp=sharing)"
   ]
  },
  {
   "cell_type": "markdown",
   "metadata": {
    "colab_type": "text",
    "id": "UFyJDlKWvR3e"
   },
   "source": [
    "## **[Validating Postal Codes](https://www.hackerrank.com/challenges/validating-postalcode/problem)**\n",
    "\n",
    "A valid postal code **P** have to fullfil both below requirements: <br>\n",
    "* **P** must be a number in the range from 100000 to 999999 inclusive.\n",
    "* **P** must not contain more than one alternating repetitive digit pair. <br>\n",
    "\n",
    "Alternating repetitive digits are digits which repeat immediately after the next digit. In other words, an alternating repetitive digit pair is formed by two equal digits that have just a single digit between them. <br>\n",
    "\n",
    "For Example:\n",
    "\n",
    "\n",
    "```\n",
    "121426 # Here, 1 is an alternating repetitive digit.\n",
    "523563 # Here, NO digit is an alternating repetitive digit.\n",
    "552523 # Here, both 2 and 5 are alternating repetitive digits.\n",
    "```\n",
    "\n",
    "\n",
    "\n",
    "Your task is to provide two regular expressions `regex_integer_in_range` and `regex_alternating_repetitive_digit_pair`. Where:\n",
    "`regex_integer_in_range` should match only integers range from  to  inclusive\n",
    "`regex_alternating_repetitive_digit_pair` should find alternating repetitive digits pairs in a given string.\n",
    "Both these regular expressions will be used by the provided code template to check if the input string **P** is a valid postal code using the following expression:\n",
    "\n",
    "```\n",
    "(bool(re.match(regex_integer_in_range, P)) \n",
    "and len(re.findall(regex_alternating_repetitive_digit_pair, P)) < 2)\n",
    "```\n",
    "\n",
    "### [My Solution](https://www.hackerrank.com/rest/contests/master/challenges/validating-postalcode/hackers/kritikseth/download_solution)\n"
   ]
  },
  {
   "cell_type": "code",
   "execution_count": null,
   "metadata": {
    "colab": {},
    "colab_type": "code",
    "id": "X6NLTRnHvdFY"
   },
   "outputs": [],
   "source": [
    "regex_integer_in_range = r\"\\b[1-9][\\d]{5}\\b\"\t# Do not delete 'r'.\n",
    "regex_alternating_repetitive_digit_pair = r\"(\\d)(?=\\d\\1)\"\t# Do not delete 'r'."
   ]
  },
  {
   "cell_type": "markdown",
   "metadata": {
    "colab_type": "text",
    "id": "tEyUm5jIvnzO"
   },
   "source": [
    "Alternatively"
   ]
  },
  {
   "cell_type": "code",
   "execution_count": null,
   "metadata": {
    "colab": {},
    "colab_type": "code",
    "id": "HJ_Xqmkuvm5y"
   },
   "outputs": [],
   "source": [
    "regex_integer_in_range = r\"\\b[1-9][0-9][0-9][0-9][0-9][0-9]\\b\"\t# Do not delete 'r'.\n",
    "regex_alternating_repetitive_digit_pair = r\"(\\d)(?=\\d\\1)\"\t# Do not delete 'r'."
   ]
  },
  {
   "cell_type": "markdown",
   "metadata": {
    "colab_type": "text",
    "id": "OGUybLZQp4Ug"
   },
   "source": [
    "## **[Coin Change Problem](https://www.hackerrank.com/challenges/coin-change/problem)**\n",
    "\n",
    "\n",
    "You are working at the cash counter at a fun-fair, and you have different types of coins available to you in infinite quantities. The value of each coin is already given. Can you determine the number of ways of making change for a particular number of units using the given types of coins?\n",
    "\n",
    "For example, if you have **4** types of coins, and the value of each type is given as **8, 3, 1, 2** respectively, you can make change for **3** units in three ways: **{1,1,1}, {1,2},** and **{3}**.\n",
    "\n",
    "**Function Description**\n",
    "\n",
    "Complete the getWays function in the editor below. It must return an integer denoting the number of ways to make change.\n",
    "getWays has the following parameter(s):\n",
    "* n: an integer, the amount to make change for\n",
    "* c: an array of integers representing available denominations\n",
    "\n",
    "**Input Format**\n",
    "\n",
    "The first line contains two space-separated integers describing the respective values of  and , where: \n",
    "* **n** is the number of units \n",
    "* **m** is the number of coin types <br>\n",
    "The second line contains **m** space-separated integers describing the respective values of each coin type: **c = [c[0], c[1], c[2], .., c[m-1]]**  (the list of distinct coins available in infinite amounts).\n",
    "\n",
    "**Constraints**\n",
    "* 1 <= c[i] <=50\n",
    "* a <= n <= 250\n",
    "* 1 <= m <= 50\n",
    "* Each c[i] is guaranteed to be distinct.\n",
    "\n",
    "### [My Solution](https://www.hackerrank.com/rest/contests/master/challenges/coin-change/hackers/kritikseth/download_solution)"
   ]
  },
  {
   "cell_type": "markdown",
   "metadata": {
    "colab_type": "text",
    "id": "CDtqAT6rxBgt"
   },
   "source": [
    "### Solution **1**"
   ]
  },
  {
   "cell_type": "code",
   "execution_count": null,
   "metadata": {
    "colab": {},
    "colab_type": "code",
    "id": "4H5Z9315xOOf"
   },
   "outputs": [],
   "source": [
    "cache = {}\n",
    "def getWays(n, c):\n",
    "    \n",
    "    global cache\n",
    "    \n",
    "    c = sorted(c, reverse = True)\n",
    "    #print(f'passed n: {n}, c: {c}')\n",
    "    if (n, tuple(c)) in cache:\n",
    "      return cache[(n, tuple(c))]\n",
    "    \n",
    "    default = {-1: 0, 0: 1}\n",
    "    if n <= 0: #negative values upto -30 reached\n",
    "        return default[-1]\n",
    "    if n == 0:\n",
    "      return default[0]\n",
    "\n",
    "    else:\n",
    "      ways = 0\n",
    "      for num in range(len(c)):\n",
    "        #print(f'ways: {ways}, passed n: {n}, iter val: {num}')\n",
    "        ways += getWays(n-c[num], c[num:])\n",
    "      cache[(n, tuple(c))] = ways\n",
    "      return ways"
   ]
  },
  {
   "cell_type": "markdown",
   "metadata": {
    "colab_type": "text",
    "id": "pSH9Qnm-xK9Z"
   },
   "source": [
    "### Solution **2**"
   ]
  },
  {
   "cell_type": "code",
   "execution_count": null,
   "metadata": {
    "colab": {},
    "colab_type": "code",
    "id": "HeK31zEJvd57"
   },
   "outputs": [],
   "source": [
    "def passval(n, num, i):\n",
    "    if (n % num == 0):\n",
    "        q = n//num\n",
    "        q -= 1\n",
    "        return n-(num*q)\n",
    "    else:\n",
    "        return n - (num*i)"
   ]
  },
  {
   "cell_type": "code",
   "execution_count": null,
   "metadata": {
    "colab": {},
    "colab_type": "code",
    "id": "iQ--lxUBxF24"
   },
   "outputs": [],
   "source": [
    "def getWays(n, c):\n",
    "    c = sorted(c, reverse = True)\n",
    "    ways = 0\n",
    "    if n == 0 or n == 1:\n",
    "        return 1\n",
    "    for num in c:\n",
    "        if num == n:\n",
    "            #print(f'if--loop:{num}, passed n:{n}, ways:{ways}')\n",
    "            ways += 1\n",
    "        elif num < n:\n",
    "            #print(f'elif--loop:{num}, passed n:{n}, ways:{ways}')\n",
    "            if passval1(n, num, c[-1]) >= c[-1]:\n",
    "                #print(passval1(n, num, c[-1]))\n",
    "                ways += getWays(passval1(n, num, c[-1]), c)\n",
    "            #print(n)\n",
    "    return way"
   ]
  },
  {
   "cell_type": "markdown",
   "metadata": {
    "colab_type": "text",
    "id": "U_P7ovKor847"
   },
   "source": [
    "## **[Sherlock and Cost](https://www.hackerrank.com/challenges/sherlock-and-cost/problem)**\n",
    "\n",
    "In this challenge, you will be given an array **B** and must determine an array **A**. There is a special rule: For all **i, A[i] <= B[i]** . That is, **A[i]** can be any number you choose such that **1 <= A[i] <= B[i]**. Your task is to select a series of **A[i]** given **B[i]** such that the sum of the absolute difference of consecutive pairs of **A** is maximized. This will be the array's cost, and will be represented by the variable **S** below.\n",
    "\n",
    "For example, if the array , we know that , , and . Arrays meeting those guidelines are:\n",
    "\n",
    "```\n",
    "[1,1,1], [1,1,2], [1,1,3]\n",
    "[1,2,1], [1,2,2], [1,2,3]\n",
    "```\n",
    "\n",
    "\n",
    "Our calculations for the arrays are as follows:\n",
    "\n",
    "\n",
    "```\n",
    "|1-1| + |1-1| = 0\t|1-1| + |2-1| = 1\t|1-1| + |3-1| = 2\n",
    "|2-1| + |1-2| = 2\t|2-1| + |2-2| = 1\t|2-1| + |3-2| = 2\n",
    "```\n",
    "\n",
    "\n",
    "The maximum value obtained is **2**.\n",
    "\n",
    "**Function Description**\n",
    "\n",
    "Complete the cost function in the editor below. It should return the maximum value that can be obtained.\n",
    "cost has the following parameter(s):\n",
    "* B: an array of integers\n",
    "\n",
    "**Input Format**\n",
    "\n",
    "The first line contains the integer **t**, the number of test cases.\n",
    "Each of the next **t** pairs of lines is a test case where: \n",
    "- The first line contains an integer , the length of **B**\n",
    "- The next line contains **n** space-separated integers **B[i]**\n",
    "\n",
    "**Constraints**\n",
    "\n",
    "* 1 <= t <= 20\n",
    "* 1 < n <= 10ˆ5\n",
    "* 1 <= B[i] <= 100\n",
    "\n",
    "\n",
    "### [My Solution](https://www.hackerrank.com/rest/contests/master/challenges/sherlock-and-cost/hackers/kritikseth/download_solution)\n",
    "\n",
    "\n"
   ]
  },
  {
   "cell_type": "code",
   "execution_count": null,
   "metadata": {
    "colab": {},
    "colab_type": "code",
    "id": "3hGtau85vBM2"
   },
   "outputs": [],
   "source": [
    "def cost(B):\n",
    "    high_low = [0, 0]\n",
    "    bl = B[0]\n",
    "\n",
    "    for b in B[1:]:\n",
    "    sum_min = max(high_low[0], high_low[1] + bl - 1)\n",
    "    sum_max = max(high_low[0] + b - 1, high_low[1] + abs(b - bl))\n",
    "    high_low = [sum_min, sum_max]\n",
    "    bl = b\n",
    "    return max(high_low)"
   ]
  }
 ],
 "metadata": {
  "colab": {
   "collapsed_sections": [],
   "name": "HW_J043_010820.ipynb",
   "provenance": []
  },
  "kernelspec": {
   "display_name": "Python 3",
   "language": "python",
   "name": "python3"
  },
  "language_info": {
   "codemirror_mode": {
    "name": "ipython",
    "version": 3
   },
   "file_extension": ".py",
   "mimetype": "text/x-python",
   "name": "python",
   "nbconvert_exporter": "python",
   "pygments_lexer": "ipython3",
   "version": "3.7.6"
  }
 },
 "nbformat": 4,
 "nbformat_minor": 1
}
