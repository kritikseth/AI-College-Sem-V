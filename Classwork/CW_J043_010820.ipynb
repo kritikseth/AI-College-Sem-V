{
  "nbformat": 4,
  "nbformat_minor": 0,
  "metadata": {
    "colab": {
      "name": "CW_J043_010820.ipynb",
      "provenance": []
    },
    "kernelspec": {
      "name": "python3",
      "display_name": "Python 3"
    }
  },
  "cells": [
    {
      "cell_type": "markdown",
      "metadata": {
        "id": "hJN-8yc846Yj",
        "colab_type": "text"
      },
      "source": [
        "## AI- Dynamic Programming- Classwork\n",
        "\n",
        "[Colab Notebook](https://colab.research.google.com/drive/1kzACaOIlzwh7eJAiyage3GYNkLOs5Q9J?usp=sharing)"
      ]
    },
    {
      "cell_type": "code",
      "metadata": {
        "id": "jaJ02N_AGTJg",
        "colab_type": "code",
        "colab": {}
      },
      "source": [
        "import time"
      ],
      "execution_count": null,
      "outputs": []
    },
    {
      "cell_type": "markdown",
      "metadata": {
        "id": "mu_dYFW_E6Tz",
        "colab_type": "text"
      },
      "source": [
        "### Factorial"
      ]
    },
    {
      "cell_type": "code",
      "metadata": {
        "id": "ntLbNhURE8cF",
        "colab_type": "code",
        "colab": {}
      },
      "source": [
        "def factorial1(a):\n",
        "  if a == 1:\n",
        "    return 1\n",
        "  else:\n",
        "    return a*factorial1(a-1)"
      ],
      "execution_count": null,
      "outputs": []
    },
    {
      "cell_type": "code",
      "metadata": {
        "id": "tkgPCbBDFOsv",
        "colab_type": "code",
        "colab": {}
      },
      "source": [
        "def factorial2(a):\n",
        "  m = 1\n",
        "  for i in range(1, a+1):\n",
        "    m = m * i\n",
        "  return m"
      ],
      "execution_count": null,
      "outputs": []
    },
    {
      "cell_type": "code",
      "metadata": {
        "id": "VsEGNF1wFHvP",
        "colab_type": "code",
        "colab": {}
      },
      "source": [
        "a = int(input('Enter a number: '))\n",
        "start = time.time()\n",
        "ans1 = factorial1(a)\n",
        "end = time.time()\n",
        "print(f'Factorial {a} = {ans1}, and time taken is {(end-start)*1000}ms')\n",
        "start = time.time()\n",
        "ans2 = factorial2(a)\n",
        "end = time.time()\n",
        "print(f'Factorial {a} = {ans2}, and time taken is {(end-start)*1000}ms')"
      ],
      "execution_count": null,
      "outputs": []
    },
    {
      "cell_type": "markdown",
      "metadata": {
        "id": "f76xtOc9M2Nh",
        "colab_type": "text"
      },
      "source": [
        "### Fibonacci\n"
      ]
    },
    {
      "cell_type": "code",
      "metadata": {
        "id": "VDIE-rJIOgLE",
        "colab_type": "code",
        "colab": {}
      },
      "source": [
        "def fibo(a):\n",
        "  if a <= 1:\n",
        "    return 0\n",
        "  elif a == 2:\n",
        "    return 1\n",
        "  else:\n",
        "    return fibo(a-1) + fibo(a-2)"
      ],
      "execution_count": null,
      "outputs": []
    },
    {
      "cell_type": "code",
      "metadata": {
        "id": "qxGNEI2CN9ee",
        "colab_type": "code",
        "colab": {}
      },
      "source": [
        "fibo(6)"
      ],
      "execution_count": null,
      "outputs": []
    },
    {
      "cell_type": "code",
      "metadata": {
        "id": "1OO_tLQ1aw_U",
        "colab_type": "code",
        "colab": {}
      },
      "source": [
        "a = [2,3,1,4]\n",
        "a = sorted(a, reverse = True)\n",
        "a"
      ],
      "execution_count": null,
      "outputs": []
    },
    {
      "cell_type": "code",
      "metadata": {
        "id": "C69foOV07j-4",
        "colab_type": "code",
        "colab": {}
      },
      "source": [
        "print(a)"
      ],
      "execution_count": null,
      "outputs": []
    },
    {
      "cell_type": "markdown",
      "metadata": {
        "id": "I2SFpAov41D4",
        "colab_type": "text"
      },
      "source": [
        "#### Homework Playground"
      ]
    },
    {
      "cell_type": "code",
      "metadata": {
        "id": "722vikUYIV0G",
        "colab_type": "code",
        "colab": {}
      },
      "source": [
        "def passval(n, num):\n",
        "  if n % num == 0:\n",
        "    q = n//num\n",
        "    q -= 1\n",
        "    return n-(num*q)\n",
        "  else:\n",
        "    return n % num"
      ],
      "execution_count": null,
      "outputs": []
    },
    {
      "cell_type": "code",
      "metadata": {
        "id": "wp3xcv9r64DY",
        "colab_type": "code",
        "colab": {}
      },
      "source": [
        "def getWays(n, c):\n",
        "  c = sorted(c, reverse = True)\n",
        "  ways = 0\n",
        "  if n == 0 or n == 1:\n",
        "    return 1\n",
        "  for num in c:\n",
        "    if num == n:\n",
        "      ways += 1\n",
        "    if num < n:\n",
        "      ways += getWays(passval(n, num), c)\n",
        "    print(f'loop:{num}, passed n:{n}, ways:{ways}')\n",
        "  return ways"
      ],
      "execution_count": null,
      "outputs": []
    },
    {
      "cell_type": "code",
      "metadata": {
        "id": "ELyn0nB--pKx",
        "colab_type": "code",
        "colab": {}
      },
      "source": [
        "getWays(4, [1,2,3])"
      ],
      "execution_count": null,
      "outputs": []
    }
  ]
}