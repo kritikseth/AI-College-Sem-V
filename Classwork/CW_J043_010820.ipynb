{
 "cells": [
  {
   "cell_type": "markdown",
   "metadata": {},
   "source": [
    "<a href=\"https://kritikseth.github.io/ipynbtagredirect\" target=\"_parent\"><img src=\"https://raw.githack.com/kritikseth/kritikseth/master/assets/icons/kritik_ipynbtagredirect.svg\" alt=\"Kritik Seth\"/></a>"
   ]
  },
  {
   "cell_type": "markdown",
   "metadata": {
    "colab_type": "text",
    "id": "hJN-8yc846Yj"
   },
   "source": [
    "## AI- Dynamic Programming- Classwork\n",
    "\n",
    "[Colab Notebook](https://colab.research.google.com/drive/1kzACaOIlzwh7eJAiyage3GYNkLOs5Q9J?usp=sharing)"
   ]
  },
  {
   "cell_type": "code",
   "execution_count": null,
   "metadata": {
    "colab": {},
    "colab_type": "code",
    "id": "jaJ02N_AGTJg"
   },
   "outputs": [],
   "source": [
    "import time"
   ]
  },
  {
   "cell_type": "markdown",
   "metadata": {
    "colab_type": "text",
    "id": "mu_dYFW_E6Tz"
   },
   "source": [
    "### Factorial"
   ]
  },
  {
   "cell_type": "code",
   "execution_count": null,
   "metadata": {
    "colab": {},
    "colab_type": "code",
    "id": "ntLbNhURE8cF"
   },
   "outputs": [],
   "source": [
    "def factorial1(a):\n",
    "  if a == 1:\n",
    "    return 1\n",
    "  else:\n",
    "    return a*factorial1(a-1)"
   ]
  },
  {
   "cell_type": "code",
   "execution_count": null,
   "metadata": {
    "colab": {},
    "colab_type": "code",
    "id": "tkgPCbBDFOsv"
   },
   "outputs": [],
   "source": [
    "def factorial2(a):\n",
    "  m = 1\n",
    "  for i in range(1, a+1):\n",
    "    m = m * i\n",
    "  return m"
   ]
  },
  {
   "cell_type": "code",
   "execution_count": null,
   "metadata": {
    "colab": {},
    "colab_type": "code",
    "id": "VsEGNF1wFHvP"
   },
   "outputs": [],
   "source": [
    "a = int(input('Enter a number: '))\n",
    "start = time.time()\n",
    "ans1 = factorial1(a)\n",
    "end = time.time()\n",
    "print(f'Factorial {a} = {ans1}, and time taken is {(end-start)*1000}ms')\n",
    "start = time.time()\n",
    "ans2 = factorial2(a)\n",
    "end = time.time()\n",
    "print(f'Factorial {a} = {ans2}, and time taken is {(end-start)*1000}ms')"
   ]
  },
  {
   "cell_type": "markdown",
   "metadata": {
    "colab_type": "text",
    "id": "f76xtOc9M2Nh"
   },
   "source": [
    "### Fibonacci\n"
   ]
  },
  {
   "cell_type": "code",
   "execution_count": null,
   "metadata": {
    "colab": {},
    "colab_type": "code",
    "id": "VDIE-rJIOgLE"
   },
   "outputs": [],
   "source": [
    "def fibo(a):\n",
    "  if a <= 1:\n",
    "    return 0\n",
    "  elif a == 2:\n",
    "    return 1\n",
    "  else:\n",
    "    return fibo(a-1) + fibo(a-2)"
   ]
  },
  {
   "cell_type": "code",
   "execution_count": null,
   "metadata": {
    "colab": {},
    "colab_type": "code",
    "id": "qxGNEI2CN9ee"
   },
   "outputs": [],
   "source": [
    "fibo(6)"
   ]
  },
  {
   "cell_type": "code",
   "execution_count": null,
   "metadata": {
    "colab": {},
    "colab_type": "code",
    "id": "1OO_tLQ1aw_U"
   },
   "outputs": [],
   "source": [
    "a = [2,3,1,4]\n",
    "a = sorted(a, reverse = True)\n",
    "a"
   ]
  },
  {
   "cell_type": "code",
   "execution_count": null,
   "metadata": {
    "colab": {},
    "colab_type": "code",
    "id": "C69foOV07j-4"
   },
   "outputs": [],
   "source": [
    "print(a)"
   ]
  },
  {
   "cell_type": "markdown",
   "metadata": {
    "colab_type": "text",
    "id": "I2SFpAov41D4"
   },
   "source": [
    "#### Homework Playground"
   ]
  },
  {
   "cell_type": "code",
   "execution_count": null,
   "metadata": {
    "colab": {},
    "colab_type": "code",
    "id": "722vikUYIV0G"
   },
   "outputs": [],
   "source": [
    "def passval(n, num):\n",
    "  if n % num == 0:\n",
    "    q = n//num\n",
    "    q -= 1\n",
    "    return n-(num*q)\n",
    "  else:\n",
    "    return n % num"
   ]
  },
  {
   "cell_type": "code",
   "execution_count": null,
   "metadata": {
    "colab": {},
    "colab_type": "code",
    "id": "wp3xcv9r64DY"
   },
   "outputs": [],
   "source": [
    "def getWays(n, c):\n",
    "  c = sorted(c, reverse = True)\n",
    "  ways = 0\n",
    "  if n == 0 or n == 1:\n",
    "    return 1\n",
    "  for num in c:\n",
    "    if num == n:\n",
    "      ways += 1\n",
    "    if num < n:\n",
    "      ways += getWays(passval(n, num), c)\n",
    "    print(f'loop:{num}, passed n:{n}, ways:{ways}')\n",
    "  return ways"
   ]
  },
  {
   "cell_type": "code",
   "execution_count": null,
   "metadata": {
    "colab": {},
    "colab_type": "code",
    "id": "ELyn0nB--pKx"
   },
   "outputs": [],
   "source": [
    "getWays(4, [1,2,3])"
   ]
  }
 ],
 "metadata": {
  "colab": {
   "name": "CW_J043_010820.ipynb",
   "provenance": []
  },
  "kernelspec": {
   "display_name": "Python 3",
   "language": "python",
   "name": "python3"
  },
  "language_info": {
   "codemirror_mode": {
    "name": "ipython",
    "version": 3
   },
   "file_extension": ".py",
   "mimetype": "text/x-python",
   "name": "python",
   "nbconvert_exporter": "python",
   "pygments_lexer": "ipython3",
   "version": "3.7.6"
  }
 },
 "nbformat": 4,
 "nbformat_minor": 1
}
