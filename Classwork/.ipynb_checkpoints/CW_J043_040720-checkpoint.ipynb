{
 "cells": [
  {
   "cell_type": "markdown",
   "metadata": {},
   "source": [
    "<a href=\"https://kritikseth.github.io/ipynbtagredirect\" target=\"_parent\"><img src=\"https://raw.githack.com/kritikseth/kritikseth/master/assets/icons/kritik_ipynbtagredirect.svg\" alt=\"Kritik Seth\"/></a>"
   ]
  },
  {
   "cell_type": "code",
   "execution_count": 1,
   "metadata": {
    "colab": {},
    "colab_type": "code",
    "executionInfo": {
     "elapsed": 1279,
     "status": "ok",
     "timestamp": 1593853743027,
     "user": {
      "displayName": "Kritik Seth",
      "photoUrl": "https://lh3.googleusercontent.com/a-/AOh14GiYPdGbuOU1BfD8e_tEeNnjErnohlpHw4u2TIQDsQ=s64",
      "userId": "12511821885002293463"
     },
     "user_tz": -330
    },
    "id": "-jNnaTHGHPn9"
   },
   "outputs": [],
   "source": [
    "#list\n",
    "al = [1,2,3,4,'text']\n",
    "\n",
    "#tuple\n",
    "at = (1,2,3,4,'text')\n",
    "\n",
    "#set\n",
    "a = {'list':[1,2,3,4,'text'],\n",
    "     'tuple':(1,2,3,4,'text'),\n",
    "     'set':{1,2,3,4,'text'},\n",
    "     'dict':{'num1':1,'text':'text'}}"
   ]
  },
  {
   "cell_type": "code",
   "execution_count": 2,
   "metadata": {
    "colab": {
     "base_uri": "https://localhost:8080/",
     "height": 34
    },
    "colab_type": "code",
    "executionInfo": {
     "elapsed": 1271,
     "status": "ok",
     "timestamp": 1593853743029,
     "user": {
      "displayName": "Kritik Seth",
      "photoUrl": "https://lh3.googleusercontent.com/a-/AOh14GiYPdGbuOU1BfD8e_tEeNnjErnohlpHw4u2TIQDsQ=s64",
      "userId": "12511821885002293463"
     },
     "user_tz": -330
    },
    "id": "d4PokSNIHn6c",
    "outputId": "daabd2a0-dbc4-4b32-e886-3c676453c60c"
   },
   "outputs": [
    {
     "data": {
      "text/plain": [
       "dict"
      ]
     },
     "execution_count": 2,
     "metadata": {
      "tags": []
     },
     "output_type": "execute_result"
    }
   ],
   "source": [
    "type(a['dict'])"
   ]
  },
  {
   "cell_type": "markdown",
   "metadata": {
    "colab_type": "text",
    "id": "PjMPnhjoMVnA"
   },
   "source": [
    "### Set\n"
   ]
  },
  {
   "cell_type": "code",
   "execution_count": 3,
   "metadata": {
    "colab": {},
    "colab_type": "code",
    "executionInfo": {
     "elapsed": 1263,
     "status": "ok",
     "timestamp": 1593853743030,
     "user": {
      "displayName": "Kritik Seth",
      "photoUrl": "https://lh3.googleusercontent.com/a-/AOh14GiYPdGbuOU1BfD8e_tEeNnjErnohlpHw4u2TIQDsQ=s64",
      "userId": "12511821885002293463"
     },
     "user_tz": -330
    },
    "id": "YdMcMVSAHqte"
   },
   "outputs": [],
   "source": [
    "a = [1,1,2,3,1,1,3,4,5,3,4,6,7,9,3,5,-1]\n",
    "a = set(a)"
   ]
  },
  {
   "cell_type": "code",
   "execution_count": 4,
   "metadata": {
    "colab": {
     "base_uri": "https://localhost:8080/",
     "height": 34
    },
    "colab_type": "code",
    "executionInfo": {
     "elapsed": 1258,
     "status": "ok",
     "timestamp": 1593853743031,
     "user": {
      "displayName": "Kritik Seth",
      "photoUrl": "https://lh3.googleusercontent.com/a-/AOh14GiYPdGbuOU1BfD8e_tEeNnjErnohlpHw4u2TIQDsQ=s64",
      "userId": "12511821885002293463"
     },
     "user_tz": -330
    },
    "id": "QL-g450XKFGV",
    "outputId": "71486eb2-2e26-4fb1-ccf4-eb1f7e84837c"
   },
   "outputs": [
    {
     "data": {
      "text/plain": [
       "{-1, 1, 2, 3, 4, 5, 6, 7, 9}"
      ]
     },
     "execution_count": 4,
     "metadata": {
      "tags": []
     },
     "output_type": "execute_result"
    }
   ],
   "source": [
    "a"
   ]
  },
  {
   "cell_type": "code",
   "execution_count": 5,
   "metadata": {
    "colab": {
     "base_uri": "https://localhost:8080/",
     "height": 34
    },
    "colab_type": "code",
    "executionInfo": {
     "elapsed": 1250,
     "status": "ok",
     "timestamp": 1593853743032,
     "user": {
      "displayName": "Kritik Seth",
      "photoUrl": "https://lh3.googleusercontent.com/a-/AOh14GiYPdGbuOU1BfD8e_tEeNnjErnohlpHw4u2TIQDsQ=s64",
      "userId": "12511821885002293463"
     },
     "user_tz": -330
    },
    "id": "BoyIUQe0Ta57",
    "outputId": "6dbc1779-f5fd-40f8-d2e0-002ee655afbe"
   },
   "outputs": [
    {
     "data": {
      "text/plain": [
       "1"
      ]
     },
     "execution_count": 5,
     "metadata": {
      "tags": []
     },
     "output_type": "execute_result"
    }
   ],
   "source": [
    "a.pop()"
   ]
  },
  {
   "cell_type": "code",
   "execution_count": 6,
   "metadata": {
    "colab": {},
    "colab_type": "code",
    "executionInfo": {
     "elapsed": 1242,
     "status": "ok",
     "timestamp": 1593853743033,
     "user": {
      "displayName": "Kritik Seth",
      "photoUrl": "https://lh3.googleusercontent.com/a-/AOh14GiYPdGbuOU1BfD8e_tEeNnjErnohlpHw4u2TIQDsQ=s64",
      "userId": "12511821885002293463"
     },
     "user_tz": -330
    },
    "id": "1fqjvDmAKG75"
   },
   "outputs": [],
   "source": [
    "s1 = {1,2,3,4}\n",
    "s2 = {'a','b'}\n",
    "#s3 = s1 + s2 #unhashable type 'set' unsupported operand type(s)\n",
    "#s4 = {s1,s2} #unhashable type 'set'\n",
    "#s5 = {[1,2,3,4],'text'} #unhashable type 'list'\n",
    "s6 = {1,1,1,2,3,4,5} #although duplicates are present when creating, set will only give us distinct values\n",
    "#s6[0] #'set'obj does not support indexing\n",
    "s1.add(5)"
   ]
  },
  {
   "cell_type": "code",
   "execution_count": 7,
   "metadata": {
    "colab": {
     "base_uri": "https://localhost:8080/",
     "height": 34
    },
    "colab_type": "code",
    "executionInfo": {
     "elapsed": 1237,
     "status": "ok",
     "timestamp": 1593853743034,
     "user": {
      "displayName": "Kritik Seth",
      "photoUrl": "https://lh3.googleusercontent.com/a-/AOh14GiYPdGbuOU1BfD8e_tEeNnjErnohlpHw4u2TIQDsQ=s64",
      "userId": "12511821885002293463"
     },
     "user_tz": -330
    },
    "id": "EHXrOew8E7gK",
    "outputId": "4d34c2f5-abe1-4abd-c2d9-ad3150be6cd6"
   },
   "outputs": [
    {
     "data": {
      "text/plain": [
       "True"
      ]
     },
     "execution_count": 7,
     "metadata": {
      "tags": []
     },
     "output_type": "execute_result"
    }
   ],
   "source": [
    "1 in s1"
   ]
  }
 ],
 "metadata": {
  "colab": {
   "authorship_tag": "ABX9TyM8vlrGMQCLltjTdLJ+igSd",
   "name": "CW_J043_040720.ipynb",
   "provenance": []
  },
  "kernelspec": {
   "display_name": "Python 3",
   "language": "python",
   "name": "python3"
  },
  "language_info": {
   "codemirror_mode": {
    "name": "ipython",
    "version": 3
   },
   "file_extension": ".py",
   "mimetype": "text/x-python",
   "name": "python",
   "nbconvert_exporter": "python",
   "pygments_lexer": "ipython3",
   "version": "3.7.6"
  }
 },
 "nbformat": 4,
 "nbformat_minor": 1
}
